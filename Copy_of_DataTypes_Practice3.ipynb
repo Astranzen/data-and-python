{
  "nbformat": 4,
  "nbformat_minor": 0,
  "metadata": {
    "colab": {
      "provenance": [],
      "include_colab_link": true
    },
    "kernelspec": {
      "name": "python3",
      "display_name": "Python 3"
    },
    "language_info": {
      "name": "python"
    }
  },
  "cells": [
    {
      "cell_type": "markdown",
      "metadata": {
        "id": "view-in-github",
        "colab_type": "text"
      },
      "source": [
        "<a href=\"https://colab.research.google.com/github/Astranzen/data-and-python/blob/main/Copy_of_DataTypes_Practice3.ipynb\" target=\"_parent\"><img src=\"https://colab.research.google.com/assets/colab-badge.svg\" alt=\"Open In Colab\"/></a>"
      ]
    },
    {
      "cell_type": "markdown",
      "source": [
        "<a href=\"https://colab.research.google.com/github/StefanMeyer7/Python-Fundamentals/blob/main/DataTypes_Practice1.ipynb\" target=\"_parent\"><img src=\"https://colab.research.google.com/assets/colab-badge.svg\" alt=\"Open In Colab\"/></a>"
      ],
      "metadata": {
        "id": "hypbENCo_DGn"
      }
    },
    {
      "cell_type": "markdown",
      "source": [
        "# Working with Strings"
      ],
      "metadata": {
        "id": "AhRgOJ7ryJVH"
      }
    },
    {
      "cell_type": "markdown",
      "source": [
        "---\n",
        "### Exercise 1 input and strings\n",
        "**Recap**: to get input from the user and store it in a variable, use the instruction  \n",
        "\n",
        "*variableName = input(\"message asking user for required information\")*  \n",
        "\n",
        "*Remember: Unless you state otherwise, all input is String data*  \n",
        "\n",
        "Write a function called **print_initials()** which will:\n",
        "\n",
        "*  ask the user to input a **first_name**  \n",
        "*  ask the user to input a **middle_name**  \n",
        "*  ask the user to input a **surname**  \n",
        "*  print the name in the format: `surname`, `first_name` `middle_name`  \n",
        "\n",
        "Test Inputs:  \n",
        "Peter  \n",
        "Barry  \n",
        "Burrows  \n",
        "\n",
        "Expected output:  \n",
        "Burrows, Peter Barry\n"
      ],
      "metadata": {
        "id": "7PXmCFw5yL1k"
      }
    },
    {
      "cell_type": "code",
      "source": [
        "def print_initials():\n",
        "    first_name=input('enter first name')\n",
        "    middle_name=input('enter middle name')\n",
        "    surname=input('enter surname')\n",
        "    print(surname,first_name,middle_name)\n",
        "print_initials()"
      ],
      "metadata": {
        "id": "yg4eXXaFyN7r",
        "outputId": "1b0f2e10-6dd6-4cc3-a125-0db5971dd0b0",
        "colab": {
          "base_uri": "https://localhost:8080/"
        }
      },
      "execution_count": null,
      "outputs": [
        {
          "output_type": "stream",
          "name": "stdout",
          "text": [
            "enter first nameAnton\n",
            "enter middle name\n",
            "enter surnameHofman\n",
            "Hofman Anton \n"
          ]
        }
      ]
    },
    {
      "cell_type": "markdown",
      "source": [
        "# Substrings\n",
        "\n",
        "---\n",
        "\n",
        "A String is a set of characters. Each String has a length and each character in the string has a position or index. Indexing starts at 0 so the first character of a String is at position 0. As Strings have varying lengths, the last character of the String is at position -1. To find any character in the String, count from 0 or, if you want to count backwards from the end, count back from -1.  \n",
        "\n",
        "You can get a particular character, or a set of consecutive characters (substring) from a String using [] and the positions of the characters you want.  \n",
        "\n",
        "Example:  \n",
        "To get the first letter of a String (in this case the String is called **name**)\n",
        "**first_letter** = `name`[0]  \n",
        "**second_letter** = `name`[1]  \n",
        "**sixth_letter** = `name`[5]  \n",
        "\n",
        "To get the last letter of name:  \n",
        "**last_letter** = `name`[-1]  \n",
        "**second_last_letter** = `name`[-2]  \n",
        "**third_last_letter** = `name`[-3]  \n",
        "\n",
        "Have a go"
      ],
      "metadata": {
        "id": "CCr-T7TYyOBZ"
      }
    },
    {
      "cell_type": "code",
      "source": [
        "def print_letters():\n",
        "   name = \"Robert\"\n",
        "   # add your code below here to get a particular letter and print it.\n",
        "   first_letter=name[0]\n",
        "   second_letter=name[1]\n",
        "   six_letter=name[5]\n",
        "   print(first_letter,second_letter,six_letter)\n",
        "   last_letter=name[-1]\n",
        "   second_last_letter=name[-2]\n",
        "   third_last_letter=name[-3]\n",
        "   print(last_letter,second_last_letter,third_last_letter)\n",
        "print_letters()"
      ],
      "metadata": {
        "id": "pfw0aN7CyQTJ",
        "outputId": "de8cf9aa-2933-4b86-a398-eeadf821c5fd",
        "colab": {
          "base_uri": "https://localhost:8080/"
        }
      },
      "execution_count": null,
      "outputs": [
        {
          "output_type": "stream",
          "name": "stdout",
          "text": [
            "R o t\n",
            "t r e\n"
          ]
        }
      ]
    },
    {
      "cell_type": "markdown",
      "source": [
        "To get a set of letters from a String, use the slice operator.  \n",
        "\n",
        "*substring = stringname[ index of first letter to be included_ : index + 1 of last letter ]*\n",
        "\n",
        "Example:  \n",
        "\n",
        "**first_three_letters** = `name`[0:3]  \n",
        "**second_to_fifth_letters** = `name`[1:5]  \n",
        "**last_three_letters** = `name`[-3:]  \n",
        "\n",
        "*Note: we can't add 1 to -1 as the result would be 0 and confused with the first letter, so we omit the second number to indicate that we want all characters to the end of the string*"
      ],
      "metadata": {
        "id": "ARnlyx-2yVBj"
      }
    },
    {
      "cell_type": "code",
      "source": [
        "def print_substrings():\n",
        "   name = \"Robert\"\n",
        "   first_thre_leters=name[0:3]\n",
        "   second_to_fifth_letter=name[1:5]\n",
        "   last_first_thre_leters=name[-3:]\n",
        "   print(first_thre_leters ,second_to_fifth_letter, last_first_thre_leters )\n",
        "\n",
        "print_substrings()"
      ],
      "metadata": {
        "id": "uyG73iAFyWCM",
        "outputId": "77218b84-94b9-4cca-d87a-86a193391796",
        "colab": {
          "base_uri": "https://localhost:8080/"
        }
      },
      "execution_count": null,
      "outputs": [
        {
          "output_type": "stream",
          "name": "stdout",
          "text": [
            "Rob ober ert\n"
          ]
        }
      ]
    },
    {
      "cell_type": "markdown",
      "source": [
        "---\n",
        "### Exercise 2 - substrings\n",
        "\n",
        "Write a function called **print_substring()** which will:\n",
        "\n",
        "Ask the user to input a **name** of at least 5 letters  \n",
        "Print the **first** and the **fourth** letters in the `name`  \n",
        "\n",
        "Test Inputs:  \n",
        "Bartholomew  \n",
        "\n",
        "Expected output:  \n",
        "First letter is B, fourth letter is t\n"
      ],
      "metadata": {
        "id": "GjwIqqCtyYFE"
      }
    },
    {
      "cell_type": "code",
      "source": [
        "def print_substring():\n",
        "   name=input('enter name of 5 letter' )\n",
        "   first_letter=name[0]\n",
        "   fourth_letter=name[3]\n",
        "   print(first_letter ,fourth_letter )\n",
        "print_substring()"
      ],
      "metadata": {
        "id": "9rX2HoZtyZ9N",
        "outputId": "adbcb898-f5a9-4ee1-e748-75dd1385457e",
        "colab": {
          "base_uri": "https://localhost:8080/"
        }
      },
      "execution_count": null,
      "outputs": [
        {
          "output_type": "stream",
          "name": "stdout",
          "text": [
            "enter name of 5 letterAnton\n",
            "A o\n"
          ]
        }
      ]
    },
    {
      "cell_type": "markdown",
      "source": [
        "---\n",
        "### Exercise 3  - Formatting String output  \n",
        "\n",
        "Write a function called **print_formatted()** which will:  \n",
        "\n",
        "*  ask the user to input a **house_number**\n",
        "*  ask the user to input a **road_name**, then a **town**, then a **postcode**  \n",
        "*  print the address on three lines (`house_number` with a comma and `road_name`, `town`, `postcode`)  \n",
        "\n",
        "Test Input:  \n",
        "10  \n",
        "Old Road  \n",
        "Chatham  \n",
        "ME4 1AA  \n",
        "\n",
        "Expected output:   \n",
        "10, Old Road  \n",
        "Chatham  \n",
        "ME4 1AA  "
      ],
      "metadata": {
        "id": "AHTaERl3ycDz"
      }
    },
    {
      "cell_type": "code",
      "source": [
        "def print_fformat():\n",
        "   house_number=int(input('enter house number '))\n",
        "   road_name=input('enter street')\n",
        "   town=input('enter town')\n",
        "   postcode=input('enter postcode')\n",
        "   print(house_number,',',road_name)\n",
        "   print(town)\n",
        "   print(postcode)\n",
        "print_fformat()"
      ],
      "metadata": {
        "id": "m8S_no9Kyc48",
        "outputId": "919a80db-a4c8-44b6-de54-f26344ef5f23",
        "colab": {
          "base_uri": "https://localhost:8080/"
        }
      },
      "execution_count": null,
      "outputs": [
        {
          "output_type": "stream",
          "name": "stdout",
          "text": [
            "enter house number 10\n",
            "enter street8\n",
            "enter townPerth\n",
            "enter postcodePH16SE\n",
            "10 , 8\n",
            "Perth\n",
            "PH16SE\n"
          ]
        }
      ]
    },
    {
      "cell_type": "markdown",
      "source": [
        "# String functions\n",
        "\n",
        "## String length\n",
        "\n",
        "You can get the length of a String using the len() function   \n",
        "e.g. **namelength** = len(`name`)  \n"
      ],
      "metadata": {
        "id": "qW8hUmVWyfBC"
      }
    },
    {
      "cell_type": "markdown",
      "source": [
        "---\n",
        "### Exercise 4 - String length  \n",
        "\n",
        "Write a function called **print_namelength()** which will:  \n",
        "\n",
        "*  ask the user to input a **name**  \n",
        "*  assign the length of the name to a variable called **name_length**  \n",
        "*  print the `name` followed by a comma, then `name_length`, then the word “characters”.\n",
        "\n",
        "Test Input:  \n",
        "William  \n",
        "\n",
        "Expected Output:  \n",
        "William, 7 characters"
      ],
      "metadata": {
        "id": "XkKLQYZayiwM"
      }
    },
    {
      "cell_type": "code",
      "source": [
        "def print_namelength():\n",
        "   name=input('enter name')\n",
        "   name_length=len(name)\n",
        "   print(name,',',name_length,'characters')\n",
        "print_namelength()"
      ],
      "metadata": {
        "id": "8DLhrrP4ykQY",
        "outputId": "159d470c-5b7c-430a-f359-6bea755688dc",
        "colab": {
          "base_uri": "https://localhost:8080/"
        }
      },
      "execution_count": null,
      "outputs": [
        {
          "output_type": "stream",
          "name": "stdout",
          "text": [
            "enter nameWilliam\n",
            "William , 7 characters\n"
          ]
        }
      ]
    },
    {
      "cell_type": "markdown",
      "source": [
        "## String Case Conversion  \n",
        "\n",
        "When you start to compare and search for strings, you will need to be aware that data doesn’t always turn up in the state we would like it.  People often forget to use capital letters at the beginning of their names and will sometimes use all capitals.  It is useful, therefore, to be able to convert a String either to all capitals or all lowercase, depending on how you want to see it.  \n",
        "\n",
        "There are three functions for this, which are linked to the String (here the String variable is called **name**).  \n",
        "\n",
        "*   **upper_case_name** = `name.upper()`\n",
        "*   **lower_case_name** = `name.lower()`\n",
        "*   **capitalised_name** = `name.capitalize()`\n"
      ],
      "metadata": {
        "id": "zZBVBzSFymrZ"
      }
    },
    {
      "cell_type": "markdown",
      "source": [
        "---\n",
        "### Exercise 5 - case conversion  \n",
        "\n",
        "Write a function called **convert_to_capitals()** which will:  \n",
        "\n",
        "*  ask the user to input a **name** in lowercase letters\n",
        "*  assign the capitalised String to the variable **capitalised_name**\n",
        "*  print the `name` in capitals  \n",
        "\n",
        "Test Input:  \n",
        "jaswinder  \n",
        "\n",
        "Expected output:  \n",
        "JASWINDER  \n"
      ],
      "metadata": {
        "id": "Q6dE2J5wywky"
      }
    },
    {
      "cell_type": "code",
      "source": [
        "def convert_to_capital():\n",
        "  name=input('enter name in lowercase letters')\n",
        "  capitalised_name=name.upper()\n",
        "  print(capitalised_name)\n",
        "convert_to_capital()"
      ],
      "metadata": {
        "id": "1VT1qkWryxda",
        "outputId": "247a9d2e-5313-41ed-817b-25b76de06c74",
        "colab": {
          "base_uri": "https://localhost:8080/"
        }
      },
      "execution_count": null,
      "outputs": [
        {
          "output_type": "stream",
          "name": "stdout",
          "text": [
            "enter name in lowercase lettersjaswinder\n",
            "JASWINDER\n"
          ]
        }
      ]
    },
    {
      "cell_type": "markdown",
      "source": [
        "---\n",
        "### Exercise 6 - case conversion  \n",
        "\n",
        "Write a function called **capitalise_names()** which will:  \n",
        "\n",
        "*  ask the user to input a **name** and a **surname**  \n",
        "*  print both `name` and `surname` in lowercase with a capital letter at the start, even if they didn't have capitals when they were typed in  \n",
        "\n",
        "Test Input:  \n",
        "benJamIN  \n",
        "\n",
        "Expected output:  \n",
        "Benjamin\n"
      ],
      "metadata": {
        "id": "jHiY1vV_yzNt"
      }
    },
    {
      "cell_type": "code",
      "source": [
        "def capitalise_name():\n",
        "    name=input(\"enter name\")\n",
        "    upper_name=name.title()\n",
        "    print(upper_name)\n",
        "capitalise_name()"
      ],
      "metadata": {
        "id": "wn8uFJhoy3DL",
        "outputId": "fd8fae50-bee1-455b-8a2b-40b2f0a16478",
        "colab": {
          "base_uri": "https://localhost:8080/"
        }
      },
      "execution_count": null,
      "outputs": [
        {
          "output_type": "stream",
          "name": "stdout",
          "text": [
            "enter namebenJamIN\n",
            "Benjamin\n"
          ]
        }
      ]
    },
    {
      "cell_type": "markdown",
      "source": [
        "---\n",
        "### Exercise 7 - Substrings\n",
        "\n",
        "Write a function called **print_postcode_letters()** which will:   \n",
        "\n",
        "*  ask the user to enter a **postcode**  \n",
        "*  assign the first two letters of the postcode to a variable called **postcode_area**  \n",
        "*  convert the `postcode_area` String to capital letters and assign this to a variable called **capitalised_area**  \n",
        "*  print the `capitalised_area`  \n",
        "\n",
        "Test Input:  \n",
        "Me4 6bb  \n",
        "\n",
        "Expected output:  \n",
        "ME\n"
      ],
      "metadata": {
        "id": "Nf6nOs8Ny3f8"
      }
    },
    {
      "cell_type": "code",
      "source": [
        "def print_postcode():\n",
        "   name=input('enter postcode')\n",
        "   postcode_area=name[0:2]\n",
        "   capitalise_area=postcode_area.upper()\n",
        "   print(capitalise_area)\n",
        "print_postcode()"
      ],
      "metadata": {
        "id": "pv6ySeqFy5EQ",
        "outputId": "ccf9581b-6b35-4e3e-f751-4d370b77613c",
        "colab": {
          "base_uri": "https://localhost:8080/"
        }
      },
      "execution_count": null,
      "outputs": [
        {
          "output_type": "stream",
          "name": "stdout",
          "text": [
            "enter postcodehtfrh\n",
            "HT\n"
          ]
        }
      ]
    },
    {
      "cell_type": "markdown",
      "source": [
        "---\n",
        "### Exercise 8 - Floor division and slicing\n",
        "\n",
        "Write a function called **print_half_word()** which will:\n",
        "\n",
        "*  ask the user to enter a **word**  \n",
        "*  assign the value of half the length of the `word` to a variable called **half_length**  \n",
        "*  assign the first half of the `word` to a new variable called **half_word**  \n",
        "*  print `half_word`  \n",
        "\n",
        "*Hint:  when dividing the length of the word by 2, use floor division (//) so that you get a whole number of letters).  To get the first half of the word, use word[0:halfLength]*  \n",
        "\n",
        "Test input:  \n",
        "Runtime  \n",
        "\n",
        "Expected output:  \n",
        "Run"
      ],
      "metadata": {
        "id": "TZfFe6t6y5qG"
      }
    },
    {
      "cell_type": "code",
      "source": [
        "def print_half_word():\n",
        "   word = input(\"Please enter a word: \")\n",
        "   halfLength = len(word) // 2\n",
        "\n",
        "   halfWord = word[0:halfLength]\n",
        "\n",
        "   print(halfWord)\n",
        "\n",
        "print_half_word()"
      ],
      "metadata": {
        "id": "5eyPFKAby8rb",
        "outputId": "9bb3debb-f5cf-42e8-adff-60b16c98e83b",
        "colab": {
          "base_uri": "https://localhost:8080/"
        }
      },
      "execution_count": null,
      "outputs": [
        {
          "output_type": "stream",
          "name": "stdout",
          "text": [
            "Please enter a word: g\n",
            "\n"
          ]
        }
      ]
    },
    {
      "cell_type": "markdown",
      "source": [
        "---\n",
        "### Exercise 9 - String repetition\n",
        "\n",
        "Write a function called **repeat_two_letters()** which will:\n",
        "\n",
        "*  ask the user to enter a **word**  \n",
        "*  assign the last two letters of the `word` to a variable called **last_two**  \n",
        "*  assign a string made of 5 copies of the `last_two` (*Hint: `last_two`* * 5 *will do it)* to a variable called **five_copies**  \n",
        "*  print `five_copies`\n",
        "\n",
        "Test Input:\n",
        "Data\n",
        "\n",
        "Expected output:\n",
        "tatatatata\n"
      ],
      "metadata": {
        "id": "kqKi-xSDy9wq"
      }
    },
    {
      "cell_type": "code",
      "source": [
        "def repeat_two_letter():\n",
        "   word=input('enter word')\n",
        "   last_two=word[-3:-1]\n",
        "   five_copies=last_two*5\n",
        "   print(five_copies)\n",
        "repeat_two_letter()"
      ],
      "metadata": {
        "id": "Usl-n3soy_uX",
        "outputId": "04127c74-517a-4cbc-8bcf-762841e73e32",
        "colab": {
          "base_uri": "https://localhost:8080/"
        }
      },
      "execution_count": null,
      "outputs": [
        {
          "output_type": "stream",
          "name": "stdout",
          "text": [
            "enter wordfg\n",
            "fffff\n"
          ]
        }
      ]
    },
    {
      "cell_type": "markdown",
      "source": [
        "---\n",
        "### Exercise 10 - converting String to lower case\n",
        "\n",
        "Write a function called **lowerCase_threeLetters()** which will:  \n",
        "\n",
        "*  assign the value “january” to a variable called **month**  \n",
        "*  assign the first three characters of `month` to a variable called **month_short**   \n",
        "*  capitalise `month_short` and store the result back in `month_short`\n",
        "*  assign the rest of the characters to a variable called **month_rest**  \n",
        "*  join `month_short` and `month_rest` together and store the result back into the variable `month`  \n",
        "*  print `month`  \n",
        "\n",
        "Expected output:  \n",
        "JANuary  "
      ],
      "metadata": {
        "id": "q3o2ryfazADo"
      }
    },
    {
      "cell_type": "code",
      "source": [
        "def lowerCase_threLetters():\n",
        "   month='january'\n",
        "   month_short=month[0:3]\n",
        "   month_rest=month_short.upper()\n",
        "   month=month_rest\n",
        "   print(month)\n",
        "lowerCase_threLetters()"
      ],
      "metadata": {
        "id": "wZ9r5M7XzB4q",
        "outputId": "3be90a3e-1b0f-42b6-848a-f457e7378f08",
        "colab": {
          "base_uri": "https://localhost:8080/"
        }
      },
      "execution_count": null,
      "outputs": [
        {
          "output_type": "stream",
          "name": "stdout",
          "text": [
            "JAN\n"
          ]
        }
      ]
    }
  ]
}