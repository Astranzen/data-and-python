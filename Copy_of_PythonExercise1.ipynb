{
  "nbformat": 4,
  "nbformat_minor": 0,
  "metadata": {
    "colab": {
      "provenance": [],
      "include_colab_link": true
    },
    "kernelspec": {
      "name": "python3",
      "display_name": "Python 3"
    },
    "language_info": {
      "name": "python"
    }
  },
  "cells": [
    {
      "cell_type": "markdown",
      "metadata": {
        "id": "view-in-github",
        "colab_type": "text"
      },
      "source": [
        "<a href=\"https://colab.research.google.com/github/Astranzen/data-and-python/blob/main/Copy_of_PythonExercise1.ipynb\" target=\"_parent\"><img src=\"https://colab.research.google.com/assets/colab-badge.svg\" alt=\"Open In Colab\"/></a>"
      ]
    },
    {
      "cell_type": "markdown",
      "source": [
        "1A. Write a program to add the two numbers 9 and 13."
      ],
      "metadata": {
        "id": "Y9kDXsgJh-Xk"
      }
    },
    {
      "cell_type": "code",
      "execution_count": 1,
      "metadata": {
        "id": "9YN0LOPvhNSI",
        "colab": {
          "base_uri": "https://localhost:8080/"
        },
        "outputId": "6c92fc8c-4123-4030-84d2-8523d2d90db9"
      },
      "outputs": [
        {
          "output_type": "stream",
          "name": "stdout",
          "text": [
            "The sum of 9 and 13 is: 22\n"
          ]
        }
      ],
      "source": [
        "num1 = 9\n",
        "num2 = 13\n",
        "\n",
        "sum_result = num1 + num2\n",
        "\n",
        "print(f\"The sum of {num1} and {num2} is: {sum_result}\")"
      ]
    },
    {
      "cell_type": "markdown",
      "source": [
        "1B. Write a python program to multiply the two numbers 4 and 5."
      ],
      "metadata": {
        "id": "7WS5GzyIiXO8"
      }
    },
    {
      "cell_type": "code",
      "source": [
        "num1 = 4\n",
        "num2 = 5\n",
        "\n",
        "product_result = num1 * num2\n",
        "\n",
        "print(f\"The multiplication of {num1} and {num2} is: {product_result}\")"
      ],
      "metadata": {
        "id": "a4vrN63kich6",
        "colab": {
          "base_uri": "https://localhost:8080/"
        },
        "outputId": "c1f783c7-0bd4-45a3-b76b-acd970560527"
      },
      "execution_count": 3,
      "outputs": [
        {
          "output_type": "stream",
          "name": "stdout",
          "text": [
            "The multiplication of 4 and 5 is: 20\n"
          ]
        }
      ]
    },
    {
      "cell_type": "markdown",
      "source": [
        "1C. Write a program that calculates the annual salary of an employee after it increases by 10%. (Initial annual salary £42,000)"
      ],
      "metadata": {
        "id": "X61a4vTIi3oz"
      }
    },
    {
      "cell_type": "code",
      "source": [
        "initial_salary = 42000\n",
        "\n",
        "increase_percentage = 10\n",
        "\n",
        "increased_salary = initial_salary + (initial_salary * increase_percentage / 100)\n",
        "\n",
        "print(f\"The annual salary after a {increase_percentage}% increase is: £{increased_salary:.2f}\")"
      ],
      "metadata": {
        "id": "Ipi3jrRGi8Yj",
        "colab": {
          "base_uri": "https://localhost:8080/"
        },
        "outputId": "f530ddc2-ddef-488f-fb66-ccbceaa7d0ba"
      },
      "execution_count": 4,
      "outputs": [
        {
          "output_type": "stream",
          "name": "stdout",
          "text": [
            "The annual salary after a 10% increase is: £46200.00\n"
          ]
        }
      ]
    },
    {
      "cell_type": "markdown",
      "source": [
        "2A. Write a python program that finds the volume of a cuboid with length 2m, width 3m and height 5m."
      ],
      "metadata": {
        "id": "E8ZB8jBSi8nb"
      }
    },
    {
      "cell_type": "code",
      "source": [
        "length = 2\n",
        "width = 3\n",
        "height = 5\n",
        "\n",
        "volume = length * width * height\n",
        "\n",
        "print(f\"The volume of the cuboid is: {volume} cubic meters\")"
      ],
      "metadata": {
        "id": "IZ5ro6s9jCx8",
        "colab": {
          "base_uri": "https://localhost:8080/"
        },
        "outputId": "13d4ab49-7ad5-4f5b-c145-62d2e53a5954"
      },
      "execution_count": 8,
      "outputs": [
        {
          "output_type": "stream",
          "name": "stdout",
          "text": [
            "The volume of the cuboid is: 30 cubic meters\n"
          ]
        }
      ]
    },
    {
      "cell_type": "markdown",
      "source": [
        "2B. Write a program that finds the area of a circle that has a radius of 4m. (You can take pi as being 3.14)"
      ],
      "metadata": {
        "id": "mgfDFNxBjC78"
      }
    },
    {
      "cell_type": "code",
      "source": [
        "pi = 3.14\n",
        "\n",
        "radius = 4\n",
        "\n",
        "area = pi * (radius ** 2)\n",
        "\n",
        "print(f\"The area of the circle with radius {radius} meters is: {area} square meters\")"
      ],
      "metadata": {
        "id": "YMRx47ktjDD7",
        "colab": {
          "base_uri": "https://localhost:8080/"
        },
        "outputId": "b16f171b-1e66-47fd-ecc4-e313300bea8c"
      },
      "execution_count": 6,
      "outputs": [
        {
          "output_type": "stream",
          "name": "stdout",
          "text": [
            "The area of the circle with radius 4 meters is: 50.24 square meters\n"
          ]
        }
      ]
    },
    {
      "cell_type": "markdown",
      "source": [
        "2C. Write a program that finds the volume of a cone of radius 2m and height 5m. (You can take pi as being 3.14)"
      ],
      "metadata": {
        "id": "6lMyZAmzjDLN"
      }
    },
    {
      "cell_type": "code",
      "source": [
        "pi = 3.14\n",
        "\n",
        "radius = 2\n",
        "height = 5\n",
        "\n",
        "volume = (1/3) * pi * (radius ** 2) * height\n",
        "\n",
        "print(f\"The volume of the cone with radius {radius} meters and height {height} meters is: {volume:.2f} cubic meters\")"
      ],
      "metadata": {
        "id": "AX52qgBzjDTr",
        "colab": {
          "base_uri": "https://localhost:8080/"
        },
        "outputId": "b5d9dd30-f59f-442e-8a7d-fa6f12d425c8"
      },
      "execution_count": 7,
      "outputs": [
        {
          "output_type": "stream",
          "name": "stdout",
          "text": [
            "The volume of the cone with radius 2 meters and height 5 meters is: 20.93 cubic meters\n"
          ]
        }
      ]
    },
    {
      "cell_type": "markdown",
      "source": [
        "2D. Write a python program that uses a loop to find the factorial of 5."
      ],
      "metadata": {
        "id": "iSdhsrKLjMIb"
      }
    },
    {
      "cell_type": "code",
      "source": [
        "def calculate_factorial(number):\n",
        "    factorial_result = 1\n",
        "    for i in range(1, number + 1):\n",
        "        factorial_result *= i\n",
        "    return factorial_result\n",
        "\n",
        "number_to_factorial = 5\n",
        "result = calculate_factorial(number_to_factorial)\n",
        "\n",
        "print(f\"The factorial of {number_to_factorial} is: {result}\")"
      ],
      "metadata": {
        "id": "AAD9R7cfjKb0",
        "colab": {
          "base_uri": "https://localhost:8080/"
        },
        "outputId": "9596f2ed-1ea1-4bdb-d737-fe576ffb1322"
      },
      "execution_count": 9,
      "outputs": [
        {
          "output_type": "stream",
          "name": "stdout",
          "text": [
            "The factorial of 5 is: 120\n"
          ]
        }
      ]
    }
  ]
}