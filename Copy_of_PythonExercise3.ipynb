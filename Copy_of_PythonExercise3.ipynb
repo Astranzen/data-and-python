{
  "nbformat": 4,
  "nbformat_minor": 0,
  "metadata": {
    "colab": {
      "provenance": [],
      "include_colab_link": true
    },
    "kernelspec": {
      "name": "python3",
      "display_name": "Python 3"
    },
    "language_info": {
      "name": "python"
    }
  },
  "cells": [
    {
      "cell_type": "markdown",
      "metadata": {
        "id": "view-in-github",
        "colab_type": "text"
      },
      "source": [
        "<a href=\"https://colab.research.google.com/github/Astranzen/data-and-python/blob/main/Copy_of_PythonExercise3.ipynb\" target=\"_parent\"><img src=\"https://colab.research.google.com/assets/colab-badge.svg\" alt=\"Open In Colab\"/></a>"
      ]
    },
    {
      "cell_type": "markdown",
      "source": [
        "1A. Write a Python program to sum all the items in a list."
      ],
      "metadata": {
        "id": "06HPv0TNKzcW"
      }
    },
    {
      "cell_type": "code",
      "execution_count": null,
      "metadata": {
        "id": "sHKUtK2dKukc",
        "outputId": "c07e915f-8ddf-497f-e668-56ab5b008e0f",
        "colab": {
          "base_uri": "https://localhost:8080/"
        }
      },
      "outputs": [
        {
          "output_type": "stream",
          "name": "stdout",
          "text": [
            "The sum of all items in the list is: 15\n"
          ]
        }
      ],
      "source": [
        "def sum_list(items):\n",
        "    return sum(items)\n",
        "\n",
        "my_list = [1, 2, 3, 4, 5]\n",
        "\n",
        "total_sum = sum_list(my_list)\n",
        "print(\"The sum of all items in the list is:\", total_sum)"
      ]
    },
    {
      "cell_type": "markdown",
      "source": [
        "1B. Write a Python program to count the number of strings where the string length is 2 or more and the first and last character are same from a given list of strings."
      ],
      "metadata": {
        "id": "mnY0V50-K0iF"
      }
    },
    {
      "cell_type": "code",
      "source": [
        "def count_strings_with_same_ends(strings):\n",
        "    count = 0\n",
        "    for string in strings:\n",
        "        if len(string) >= 2 and string[0] == string[-1]:\n",
        "            count += 1\n",
        "    return count\n",
        "\n",
        "string_list = [\"level\", \"python\", \"radar\", \"hello\", \"noon\"]\n",
        "\n",
        "result_count = count_strings_with_same_ends(string_list)\n",
        "print(\"Number of strings with the same first and last character:\", result_count)"
      ],
      "metadata": {
        "id": "Q-N0EiDzK0p0",
        "colab": {
          "base_uri": "https://localhost:8080/"
        },
        "outputId": "bd6700ac-6ab6-43f6-a3b5-75b882be9adf"
      },
      "execution_count": 1,
      "outputs": [
        {
          "output_type": "stream",
          "name": "stdout",
          "text": [
            "Number of strings with the same first and last character: 3\n"
          ]
        }
      ]
    },
    {
      "cell_type": "markdown",
      "source": [
        "1C. Write a Python program to get a list, sorted in increasing order by the last element in each tuple from a given list of non-empty tuples."
      ],
      "metadata": {
        "id": "NEataweqK0xV"
      }
    },
    {
      "cell_type": "code",
      "source": [
        "def sort_tuples_by_last_element(tuple_list):\n",
        "    sorted_list = sorted(tuple_list, key=lambda x: x[-1])\n",
        "    return sorted_list\n",
        "\n",
        "tuple_list = [(1, 3, 5), (4, 2, 8), (7, 1, 3), (2, 6, 4)]\n",
        "\n",
        "sorted_tuples = sort_tuples_by_last_element(tuple_list)\n",
        "print(\"List sorted in increasing order by the last element:\", sorted_tuples)"
      ],
      "metadata": {
        "id": "CBw_nFtnK032",
        "colab": {
          "base_uri": "https://localhost:8080/"
        },
        "outputId": "d77b6916-875e-4361-981f-082a91914857"
      },
      "execution_count": 2,
      "outputs": [
        {
          "output_type": "stream",
          "name": "stdout",
          "text": [
            "List sorted in increasing order by the last element: [(7, 1, 3), (2, 6, 4), (1, 3, 5), (4, 2, 8)]\n"
          ]
        }
      ]
    },
    {
      "cell_type": "markdown",
      "source": [
        "2A. Write a Python program to remove duplicates from a list."
      ],
      "metadata": {
        "id": "gCcuirvhK0-t"
      }
    },
    {
      "cell_type": "code",
      "source": [
        "def remove_duplicates(input_list):\n",
        "    unique_list = list(set(input_list))\n",
        "    return unique_list\n",
        "\n",
        "original_list = [1, 2, 3, 4, 2, 3, 5, 6, 1]\n",
        "\n",
        "result_list = remove_duplicates(original_list)\n",
        "print(\"List after removing duplicates:\", result_list)"
      ],
      "metadata": {
        "id": "Iqt5oNJwK1DV",
        "colab": {
          "base_uri": "https://localhost:8080/"
        },
        "outputId": "3fd44bc3-dc54-4aad-aadf-9dc4f5231511"
      },
      "execution_count": 3,
      "outputs": [
        {
          "output_type": "stream",
          "name": "stdout",
          "text": [
            "List after removing duplicates: [1, 2, 3, 4, 5, 6]\n"
          ]
        }
      ]
    },
    {
      "cell_type": "markdown",
      "source": [
        "2B. Write a Python function that takes two lists and returns True if they have at least one common member."
      ],
      "metadata": {
        "id": "icLILXYUK1IF"
      }
    },
    {
      "cell_type": "code",
      "source": [
        "def has_common_member(list1, list2):\n",
        "    for element in list1:\n",
        "        if element in list2:\n",
        "            return True\n",
        "    return False\n",
        "\n",
        "list_a = [1, 2, 3, 4, 5]\n",
        "list_b = [5, 6, 7, 8, 9]\n",
        "\n",
        "result = has_common_member(list_a, list_b)\n",
        "\n",
        "if result:\n",
        "    print(\"The lists have at least one common member.\")\n",
        "else:\n",
        "    print(\"The lists do not have any common members.\")"
      ],
      "metadata": {
        "id": "HhDboPZIK1MZ",
        "colab": {
          "base_uri": "https://localhost:8080/"
        },
        "outputId": "c3de6f0e-97ab-4706-9f30-12f37a99980b"
      },
      "execution_count": 4,
      "outputs": [
        {
          "output_type": "stream",
          "name": "stdout",
          "text": [
            "The lists have at least one common member.\n"
          ]
        }
      ]
    },
    {
      "cell_type": "markdown",
      "source": [
        "2C. Write a Python program to print the numbers of a specified list after removing even numbers from it."
      ],
      "metadata": {
        "id": "22atu-SmK1Rm"
      }
    },
    {
      "cell_type": "code",
      "source": [
        "def remove_even_numbers(input_list):\n",
        "    odd_numbers = [number for number in input_list if number % 2 != 0]\n",
        "    return odd_numbers\n",
        "\n",
        "original_list = [1, 2, 3, 4, 5, 6, 7, 8, 9, 10]\n",
        "\n",
        "result_list = remove_even_numbers(original_list)\n",
        "print(\"List after removing even numbers:\", result_list)"
      ],
      "metadata": {
        "id": "8Xnu2OBvK1V-",
        "colab": {
          "base_uri": "https://localhost:8080/"
        },
        "outputId": "a2d63076-4001-4cc1-fc83-5994b41ccfa5"
      },
      "execution_count": 5,
      "outputs": [
        {
          "output_type": "stream",
          "name": "stdout",
          "text": [
            "List after removing even numbers: [1, 3, 5, 7, 9]\n"
          ]
        }
      ]
    },
    {
      "cell_type": "markdown",
      "source": [
        "3A. Write a Python program to generate and print a list of first and last 5 elements where the values are square of numbers between 1 and 30 (both included)."
      ],
      "metadata": {
        "id": "YoKsC5HWK1ae"
      }
    },
    {
      "cell_type": "code",
      "source": [
        "squares_list = [i**2 for i in range(1, 31)]\n",
        "\n",
        "print(\"First 5 elements:\", squares_list[:5])\n",
        "\n",
        "print(\"Last 5 elements:\", squares_list[-5:])"
      ],
      "metadata": {
        "id": "l5rPnietK1e4",
        "colab": {
          "base_uri": "https://localhost:8080/"
        },
        "outputId": "caa35b54-ec6b-4a75-8236-9917b49141e8"
      },
      "execution_count": 6,
      "outputs": [
        {
          "output_type": "stream",
          "name": "stdout",
          "text": [
            "First 5 elements: [1, 4, 9, 16, 25]\n",
            "Last 5 elements: [676, 729, 784, 841, 900]\n"
          ]
        }
      ]
    },
    {
      "cell_type": "markdown",
      "source": [
        "3B. Write a Python program to get the difference between the two lists."
      ],
      "metadata": {
        "id": "72sVaoAyK1jG"
      }
    },
    {
      "cell_type": "code",
      "source": [
        "def list_difference(list1, list2):\n",
        "    difference_list = list(set(list1) - set(list2))\n",
        "    return difference_list\n",
        "\n",
        "list_a = [1, 2, 3, 4, 5]\n",
        "list_b = [3, 4, 5, 6, 7]\n",
        "\n",
        "result_difference = list_difference(list_a, list_b)\n",
        "print(\"Difference between the lists:\", result_difference)"
      ],
      "metadata": {
        "id": "RsqiGkbNK1oP",
        "colab": {
          "base_uri": "https://localhost:8080/"
        },
        "outputId": "b3dffc98-71c2-47c2-a6bf-8d2a7f45d6dd"
      },
      "execution_count": 7,
      "outputs": [
        {
          "output_type": "stream",
          "name": "stdout",
          "text": [
            "Difference between the lists: [1, 2]\n"
          ]
        }
      ]
    },
    {
      "cell_type": "markdown",
      "source": [
        "3C. Write a Python program to convert a list of characters into a string."
      ],
      "metadata": {
        "id": "cwb0kd3sK1vt"
      }
    },
    {
      "cell_type": "code",
      "source": [
        "char_list = ['a', 'b', 'c', 'd', 'e']\n",
        "\n",
        "result_string = ''.join(char_list)\n",
        "\n",
        "print(\"Resulting string:\", result_string)"
      ],
      "metadata": {
        "id": "9oetbMLdK11N",
        "colab": {
          "base_uri": "https://localhost:8080/"
        },
        "outputId": "5356cc81-664e-40b9-d6de-683dcfa31dbc"
      },
      "execution_count": 8,
      "outputs": [
        {
          "output_type": "stream",
          "name": "stdout",
          "text": [
            "Resulting string: abcde\n"
          ]
        }
      ]
    },
    {
      "cell_type": "markdown",
      "source": [
        "4A. Write a Python program to select an item randomly from a list."
      ],
      "metadata": {
        "id": "pRBFvYEJK17O"
      }
    },
    {
      "cell_type": "code",
      "source": [
        "import random\n",
        "\n",
        "my_list = ['apple', 'banana', 'orange', 'grape', 'kiwi']\n",
        "\n",
        "random_item = random.choice(my_list)\n",
        "\n",
        "print(\"Randomly selected item:\", random_item)"
      ],
      "metadata": {
        "id": "Z3mdz8x5K1_s",
        "colab": {
          "base_uri": "https://localhost:8080/"
        },
        "outputId": "4db8b4d4-3506-48c5-fc91-a988e06cf531"
      },
      "execution_count": 9,
      "outputs": [
        {
          "output_type": "stream",
          "name": "stdout",
          "text": [
            "Randomly selected item: apple\n"
          ]
        }
      ]
    },
    {
      "cell_type": "markdown",
      "source": [
        "4B.Write a Python program to find the second largest number in a list."
      ],
      "metadata": {
        "id": "KZdXkW5MPjot"
      }
    },
    {
      "cell_type": "code",
      "source": [
        "def second_largest_number(numbers):\n",
        "    if len(numbers) < 2:\n",
        "        return \"List should have at least two numbers.\"\n",
        "\n",
        "    largest = second_largest = float('-inf')\n",
        "\n",
        "    for number in numbers:\n",
        "        if number > largest:\n",
        "            second_largest = largest\n",
        "            largest = number\n",
        "        elif number > second_largest and number != largest:\n",
        "            second_largest = number\n",
        "\n",
        "    if second_largest == float('-inf'):\n",
        "        return \"There is no second largest number in the list.\"\n",
        "    else:\n",
        "        return second_largest\n",
        "\n",
        "number_list = [12, 45, 7, 98, 54, 23, 67]\n",
        "\n",
        "result = second_largest_number(number_list)\n",
        "print(\"Second largest number:\", result)"
      ],
      "metadata": {
        "id": "4l3nkCRUK2KX",
        "colab": {
          "base_uri": "https://localhost:8080/"
        },
        "outputId": "c783fa26-8f06-4ff9-862c-35e1675c3d50"
      },
      "execution_count": 11,
      "outputs": [
        {
          "output_type": "stream",
          "name": "stdout",
          "text": [
            "Second largest number: 67\n"
          ]
        }
      ]
    },
    {
      "cell_type": "markdown",
      "source": [
        "5A. Write a Python program to count the number of elements in a list within a specified range."
      ],
      "metadata": {
        "id": "gUKwS8kEPkM6"
      }
    },
    {
      "cell_type": "code",
      "source": [
        "def count_elements_in_range(lst, lower, upper):\n",
        "    count = 0\n",
        "    for element in lst:\n",
        "        if lower <= element <= upper:\n",
        "            count += 1\n",
        "    return count\n",
        "\n",
        "my_list = [10, 25, 30, 15, 40, 5, 20]\n",
        "\n",
        "lower_limit = 15\n",
        "upper_limit = 30\n",
        "\n",
        "result_count = count_elements_in_range(my_list, lower_limit, upper_limit)\n",
        "print(f\"Number of elements in the range {lower_limit} to {upper_limit}: {result_count}\")"
      ],
      "metadata": {
        "id": "DAnLmn_RPySc",
        "colab": {
          "base_uri": "https://localhost:8080/"
        },
        "outputId": "884b3ac5-51a3-43d6-987b-bad1e16b2afb"
      },
      "execution_count": 12,
      "outputs": [
        {
          "output_type": "stream",
          "name": "stdout",
          "text": [
            "Number of elements in the range 15 to 30: 4\n"
          ]
        }
      ]
    },
    {
      "cell_type": "markdown",
      "source": [
        "5B. Write a Python program to split a list into different variables."
      ],
      "metadata": {
        "id": "3bOmmaEbK2E8"
      }
    },
    {
      "cell_type": "code",
      "source": [
        "my_list = [1, 2, 3, 4, 5]\n",
        "\n",
        "var1, var2, var3, var4, var5 = my_list\n",
        "\n",
        "print(\"Variable 1:\", var1)\n",
        "print(\"Variable 2:\", var2)\n",
        "print(\"Variable 3:\", var3)\n",
        "print(\"Variable 4:\", var4)\n",
        "print(\"Variable 5:\", var5)"
      ],
      "metadata": {
        "id": "lBYfMtFnRBsz",
        "colab": {
          "base_uri": "https://localhost:8080/"
        },
        "outputId": "bee808ea-286f-4ade-f94b-039fd2426ee6"
      },
      "execution_count": 13,
      "outputs": [
        {
          "output_type": "stream",
          "name": "stdout",
          "text": [
            "Variable 1: 1\n",
            "Variable 2: 2\n",
            "Variable 3: 3\n",
            "Variable 4: 4\n",
            "Variable 5: 5\n"
          ]
        }
      ]
    },
    {
      "cell_type": "markdown",
      "source": [
        "6A. Merge the following dictionaries into one"
      ],
      "metadata": {
        "id": "hH16U6KcRARD"
      }
    },
    {
      "cell_type": "code",
      "source": [
        "dict1 = {'Ten': 10, 'Twenty': 20, 'Thirty': 30}\n",
        "dict2 = {'Thirty': 30, 'Fourty': 40, 'Fifty': 50}\n",
        "\n",
        "merged_dict = dict1.copy()\n",
        "merged_dict.update(dict2)\n",
        "\n",
        "print(\"Merged Dictionary:\", merged_dict)"
      ],
      "metadata": {
        "id": "z_ce9ZOHRAYr",
        "colab": {
          "base_uri": "https://localhost:8080/"
        },
        "outputId": "e6335bb5-4c5e-432e-e379-de6898689310"
      },
      "execution_count": 17,
      "outputs": [
        {
          "output_type": "stream",
          "name": "stdout",
          "text": [
            "Merged Dictionary: {'Ten': 10, 'Twenty': 20, 'Thirty': 30, 'Fourty': 40, 'Fifty': 50}\n"
          ]
        }
      ]
    },
    {
      "cell_type": "markdown",
      "source": [
        "6B. Delete the set of keys from the following python dictionary"
      ],
      "metadata": {
        "id": "UOCvJRpvRAfq"
      }
    },
    {
      "cell_type": "code",
      "source": [
        "sampleDict = {\n",
        "    \"name\": \"Kelly\",\n",
        "    \"age\": 25,\n",
        "    \"salary\": 8000,\n",
        "    \"city\": \"New York\"\n",
        "}\n",
        "\n",
        "keysToRemove = [\"name\", \"salary\"]\n",
        "\n",
        "for key in keysToRemove:\n",
        "    if key in sampleDict:\n",
        "        del sampleDict[key]\n",
        "\n",
        "print(\"Dictionary after removing keys:\", sampleDict)"
      ],
      "metadata": {
        "id": "xJk1rTxKRAmV",
        "colab": {
          "base_uri": "https://localhost:8080/"
        },
        "outputId": "d681a980-89d5-4d40-bf34-74f386df6f97"
      },
      "execution_count": 18,
      "outputs": [
        {
          "output_type": "stream",
          "name": "stdout",
          "text": [
            "Dictionary after removing keys: {'age': 25, 'city': 'New York'}\n"
          ]
        }
      ]
    }
  ]
}